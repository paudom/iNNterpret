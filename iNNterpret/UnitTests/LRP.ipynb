{
 "cells": [
  {
   "cell_type": "code",
   "execution_count": 5,
   "metadata": {},
   "outputs": [],
   "source": [
    "# -- IMPORTS -- #\n",
    "from keras.applications.vgg16 import VGG16\n",
    "from keras.applications.vgg16 import preprocess_input,decode_predictions\n",
    "import keras.preprocessing.image as kerasImage\n",
    "import keras.backend as K\n",
    "import numpy as np\n",
    "%matplotlib inline\n",
    "import matplotlib.pyplot as plt"
   ]
  },
  {
   "cell_type": "code",
   "execution_count": null,
   "metadata": {},
   "outputs": [],
   "source": [
    "# -- FORWARD TOP LAYER -- #\n",
    "def forward(rule):\n",
    "    if rule.layer.__class__.__name__ == 'Dense':\n",
    "        return K.dot(rule.act,rule.weights[0])\n",
    "    elif rule.layer.__class__.__name__ == 'MaxPooling2D':\n",
    "        # mirar si te pool_size i strides\n",
    "        pooled = K.pool2d(a, pool_size=rule.layer.pool_size, strides=strides[1:-1], padding='valid', pool_mode='max')\n",
    "        return K.maximum(pooled,0.)"
   ]
  },
  {
   "cell_type": "code",
   "execution_count": 6,
   "metadata": {},
   "outputs": [
    {
     "name": "stdout",
     "output_type": "stream",
     "text": [
      "WARNING:tensorflow:From /Users/paudomingogregorio/Desktop/Projects/TFG/Code/.env/lib/python3.7/site-packages/tensorflow/python/framework/op_def_library.py:263: colocate_with (from tensorflow.python.framework.ops) is deprecated and will be removed in a future version.\n",
      "Instructions for updating:\n",
      "Colocations handled automatically by placer.\n",
      "Dense\n"
     ]
    }
   ],
   "source": [
    "# -- GRADPROP (BACKPROP) TOP LAYER -- #"
   ]
  },
  {
   "cell_type": "code",
   "execution_count": null,
   "metadata": {},
   "outputs": [],
   "source": [
    "# -- Z RULE -- #\n",
    "class ZRule(object):\n",
    "    def __init__(self,topLayer,subLayer):\n",
    "        self.layer = topLayer\n",
    "        self.weights = topLayer.get_weights()\n",
    "        self.flag = True if not self.weigths else False\n",
    "        self.act = subLayer.output\n",
    "    def run(self,R,ignoreBias=True):\n",
    "        Z = forward(self)+K.epsilon()\n",
    "        if not ignoreBias and not self.flag:\n",
    "            Z += self.weigths[1]\n",
    "        S = R/Z\n",
    "        C = gradprop(S)\n",
    "        R = self.act*C\n",
    "        return R"
   ]
  },
  {
   "cell_type": "code",
   "execution_count": null,
   "metadata": {},
   "outputs": [],
   "source": [
    "# -- Z+ RULE -- #\n",
    "class ZPlusRule(object):\n",
    "    def __init__(self,topLayer,subLayer):\n",
    "        self.layer = topLayer\n",
    "        self.weights = topLayer.get_weights()\n",
    "        self.flag = True if not self.weight else False\n",
    "        self.act = subLayer.output\n",
    "    def run(self,R,ignoreBias=True):\n",
    "        if not self.flag:\n",
    "            self.weights[0] = K.maximum(self.weights[0],0.)\n",
    "        Z = forward(self)+K.epsilon()\n",
    "        if not ignoreBias and not self.flag:\n",
    "            Z += self.weigths[1]\n",
    "        S = R/Z\n",
    "        C = gradprop(S)\n",
    "        R = self.act*C\n",
    "        return R"
   ]
  },
  {
   "cell_type": "code",
   "execution_count": null,
   "metadata": {},
   "outputs": [],
   "source": [
    "# -- Z- RULE -- #"
   ]
  },
  {
   "cell_type": "code",
   "execution_count": null,
   "metadata": {},
   "outputs": [],
   "source": [
    "# -- Zb RULE -- #"
   ]
  },
  {
   "cell_type": "code",
   "execution_count": null,
   "metadata": {},
   "outputs": [],
   "source": [
    "# -- Zab RULE -- #"
   ]
  },
  {
   "cell_type": "code",
   "execution_count": 22,
   "metadata": {},
   "outputs": [],
   "source": [
    "# -- MAIN -- #"
   ]
  }
 ],
 "metadata": {
  "kernelspec": {
   "display_name": "Python 3",
   "language": "python",
   "name": "python3"
  },
  "language_info": {
   "codemirror_mode": {
    "name": "ipython",
    "version": 3
   },
   "file_extension": ".py",
   "mimetype": "text/x-python",
   "name": "python",
   "nbconvert_exporter": "python",
   "pygments_lexer": "ipython3",
   "version": "3.7.2"
  }
 },
 "nbformat": 4,
 "nbformat_minor": 2
}
