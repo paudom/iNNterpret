{
 "cells": [
  {
   "cell_type": "code",
   "execution_count": 1,
   "metadata": {},
   "outputs": [
    {
     "name": "stderr",
     "output_type": "stream",
     "text": [
      "Using TensorFlow backend.\n"
     ]
    }
   ],
   "source": [
    "# -- IMPORTS -- #\n",
    "from keras.applications.vgg16 import VGG16\n",
    "from keras.applications.vgg16 import preprocess_input\n",
    "from keras.layers import Input, InputLayer, Dense, Conv2D, MaxPooling2D, Flatten, Activation\n",
    "from keras.models import Sequential, Model\n",
    "from keras.preprocessing import image as kerasImage\n",
    "import tensorflow as tf\n",
    "import PIL.Image as pilImage\n",
    "import keras.backend as K\n",
    "import numpy as np\n",
    "import math\n",
    "import os\n",
    "%matplotlib inline\n",
    "import matplotlib.pyplot as plt"
   ]
  },
  {
   "cell_type": "code",
   "execution_count": 2,
   "metadata": {},
   "outputs": [],
   "source": [
    "# -- DCONV2D LAYER -- #\n",
    "class DConv2D(object):\n",
    "    def __init__(self, layer):\n",
    "        self.layer = layer\n",
    "        # -- UP FUNCTION -- #\n",
    "        weights = layer.get_weights()\n",
    "        W = weights[0]\n",
    "        b = weights[1]\n",
    "        upFilters = W.shape[3]\n",
    "        upRow = W.shape[0]\n",
    "        upCol = W.shape[1]\n",
    "        upInput = Input(shape = layer.input_shape[1:])\n",
    "        upOutput = Conv2D(upFilters,(upRow,upCol),kernel_initializer=tf.constant_initializer(W),\n",
    "                                   bias_initializer=tf.constant_initializer(b),padding='same')(upInput)\n",
    "        self.up_function = K.function([upInput, K.learning_phase()],[upOutput])\n",
    "        # -- DOWN FUNCTION -- #\n",
    "        W = np.transpose(W,(0,1,3,2))\n",
    "        W = W[::-1, ::-1,:,:]\n",
    "        downFilters = W.shape[3]\n",
    "        downRow = W.shape[0]\n",
    "        downCol = W.shape[1]\n",
    "        b = np.zeros(downFilters)\n",
    "        downInput = Input(shape = layer.output_shape[1:])\n",
    "        downOutput = Conv2D(downFilters,(downRow,downCol),kernel_initializer=tf.constant_initializer(W),\n",
    "                                   bias_initializer=tf.constant_initializer(b),padding='same')(downInput)\n",
    "        self.down_function = K.function([downInput, K.learning_phase()],[downOutput])\n",
    "    # -- FORWARD PASS -- #\n",
    "    def up(self, data, learn = 0):\n",
    "        self.upData = self.up_function([data, learn])\n",
    "        self.upData = np.squeeze(self.upData,axis=0)\n",
    "        self.upData = np.expand_dims(self.upData,axis=0)\n",
    "        return self.upData\n",
    "    # -- BACKWARD PASS -- #\n",
    "    def down(self, data, learn = 0):\n",
    "        self.downData = self.down_function([data, learn])\n",
    "        self.downData = np.squeeze(self.downData,axis=0)\n",
    "        self.downData = np.expand_dims(self.downData,axis=0)\n",
    "        return self.downData"
   ]
  },
  {
   "cell_type": "code",
   "execution_count": 3,
   "metadata": {},
   "outputs": [],
   "source": [
    "# -- DACTIVATION LAYER -- #\n",
    "class DActivation(object):\n",
    "    def __init__(self, layer, linear = False):\n",
    "        self.layer = layer\n",
    "        self.linear = linear\n",
    "        self.activation = layer.activation\n",
    "        deconvInput = K.placeholder(shape = layer.output_shape)\n",
    "        deconvOutput = self.activation(deconvInput)\n",
    "        self.up_function = K.function([deconvInput, K.learning_phase()],[deconvOutput])\n",
    "        self.down_function = K.function([deconvInput, K.learning_phase()],[deconvOutput])\n",
    "    # -- FORWARD PASS -- #\n",
    "    def up(self, data, learn = 0):   \n",
    "        self.upData = self.up_function([data, learn])\n",
    "        self.upData = np.squeeze(self.upData,axis=0)\n",
    "        self.upData = np.expand_dims(self.upData,axis=0)\n",
    "        return self.upData\n",
    "    # -- BACKWARD PASS -- #\n",
    "    def down(self, data, learn = 0):\n",
    "        self.downData = self.down_function([data, learn])\n",
    "        self.downData = np.squeeze(self.downData,axis=0)\n",
    "        self.downData = np.expand_dims(self.downData,axis=0)\n",
    "        return self.downData"
   ]
  },
  {
   "cell_type": "code",
   "execution_count": 4,
   "metadata": {},
   "outputs": [],
   "source": [
    "# -- DINPUT LAYER -- #\n",
    "class DInput(object):\n",
    "    def __init__(self, layer):\n",
    "        self.layer = layer\n",
    "    # -- FORWARD PASS -- #\n",
    "    def up(self, data, learn = 0):\n",
    "        self.upData = data\n",
    "        return self.upData\n",
    "    # -- BACKWARD PASS -- #\n",
    "    def down(self, data, learn = 0):\n",
    "        data = np.expand_dims(data,axis=0)\n",
    "        self.downData = data\n",
    "        return self.downData"
   ]
  },
  {
   "cell_type": "code",
   "execution_count": 5,
   "metadata": {},
   "outputs": [],
   "source": [
    "# -- DDENSE LAYER -- #\n",
    "class DDense(object):\n",
    "    def __init__(self, layer):\n",
    "        self.layer = layer\n",
    "        weights = layer.get_weights()\n",
    "        W = weights[0]\n",
    "        b = weights[1]\n",
    "        \n",
    "        # -- UP FUNCTION -- #\n",
    "        deconvInput = Input(shape = layer.input_shape[1:])\n",
    "        deconvOutput = Dense(layer.output_shape[1],kernel_initializer=tf.constant_initializer(W),\n",
    "                             bias_initializer=tf.constant_initializer(b))(deconvInput)\n",
    "        self.up_function = K.function([deconvInput, K.learning_phase()], [deconvOutput])\n",
    "        \n",
    "        # -- DOWN FUNCTION -- #\n",
    "        W = W.transpose()\n",
    "        self.inputShape = layer.input_shape\n",
    "        self.outputShape = layer.output_shape\n",
    "        b = np.zeros(self.inputShape[1])\n",
    "        deconvInput = Input(shape = self.outputShape[1:])\n",
    "        deconvOutput = Dense(self.input_shape[1:],kernel_initializer=tf.constant_initializer(W),\n",
    "                             bias_initializer=tf.constant_initializer(b))(deconvInput)\n",
    "        self.down_function = K.function([deconvInput, K.learning_phase()], [deconvOutput])\n",
    "    # -- FORWARD PASS -- #\n",
    "    def up(self, data, learn = 0):\n",
    "        self.upData = self.up_function([data, learn])\n",
    "        self.upData = np.squeeze(self.upData,axis=0)\n",
    "        self.upData = np.expand_dims(self.upData,axis=0)\n",
    "        return self.upData\n",
    "    # -- BACKWARD PASS -- #\n",
    "    def down(self, data, learn = 0):\n",
    "        self.downData = self.down_func([data, learn])\n",
    "        self.downData = np.squeeze(self.downData,axis=0)\n",
    "        self.downData = np.expand_dims(self.downData,axis=0)\n",
    "        return self.downData"
   ]
  },
  {
   "cell_type": "code",
   "execution_count": 6,
   "metadata": {},
   "outputs": [],
   "source": [
    "# -- DFLATTEN LAYER -- #\n",
    "class DFlatten(object):\n",
    "    def __init__(self, layer):\n",
    "        self.layer = layer\n",
    "        self.shape = layer.input_shape[1:]\n",
    "        self.up_function = K.function([layer.input, K.learning_phase()], [layer.output])\n",
    "    # -- FORWARD PASS -- #\n",
    "    def up(self, data, learn = 0):\n",
    "        self.upData = self.up_func([data, learn])\n",
    "        self.upData = np.squeeze(self.upData,axis=0)\n",
    "        self.upData = np.expand_dims(self.upData,axis=0)\n",
    "        return self.upData\n",
    "    # -- BACKWARD PASS -- #\n",
    "    def down(self, data, learn = 0):\n",
    "        newShape = [data.shape[0]] + list(self.shape)\n",
    "        assert np.prod(self.shape) == np.prod(data.shape[1:])\n",
    "        self.downData = np.reshape(data, newShape)\n",
    "        return self.downData"
   ]
  },
  {
   "cell_type": "code",
   "execution_count": 7,
   "metadata": {},
   "outputs": [],
   "source": [
    "# -- DBATCH LAYER -- #\n",
    "class DBatch(object):\n",
    "    def __init__(self,layer):\n",
    "        self.layer = layer\n",
    "    # -- FORWARD PASS -- #\n",
    "    def up(self,data,learn=0):\n",
    "        self.mean = data.mean()\n",
    "        self.std = data.std()\n",
    "        self.upData = data\n",
    "        self.upData -= self.mean\n",
    "        self.upData /= self.std\n",
    "        self.upData = np.squeeze(self.upData,axis=0)\n",
    "        self.upData = np.expand_dims(self.upData,axis=0)\n",
    "        return self.upData\n",
    "    # -- BACKWARD PASS -- #\n",
    "    def down(self,data,learn=0):\n",
    "        self.downData = data\n",
    "        self.downData += self.mean\n",
    "        self.downData *= self.std\n",
    "        self.downData = np.squeeze(self.downData,axis=0)\n",
    "        self.downData = np.expand_dims(self.downData,axis=0)\n",
    "        return self.downData"
   ]
  },
  {
   "cell_type": "code",
   "execution_count": 8,
   "metadata": {},
   "outputs": [],
   "source": [
    "# -- DPOOLING LAYER -- #\n",
    "class DPooling(object):\n",
    "    def __init__(self, layer):\n",
    "        self.layer = layer\n",
    "        self.poolsize = layer.pool_size\n",
    "    # -- FORWARD PASS -- #\n",
    "    def up(self, data, learn = 0):\n",
    "        [self.upData, self.switch] = self.__max_pooling_with_switch(data, self.poolsize)\n",
    "        return self.upData\n",
    "    # -- BACKWARD PASS -- #\n",
    "    def down(self, data, learn = 0):\n",
    "        self.downData = self.__max_unpooling_with_switch(data, self.switch)\n",
    "        return self.downData\n",
    "    # -- POOLING -- #\n",
    "    def __max_pooling_with_switch(self, data, poolsize):\n",
    "        switch = np.zeros(data.shape)\n",
    "        outShape = list(data.shape)\n",
    "        rowPool = int(poolsize[0])\n",
    "        colPool = int(poolsize[1])\n",
    "        outShape[1] = math.floor(outShape[1] / poolsize[0])\n",
    "        outShape[2] = math.floor(outShape[2] / poolsize[1])\n",
    "        pooled = np.zeros(outShape)\n",
    "        for sample in range(data.shape[0]):\n",
    "            for dim in range(data.shape[3]):\n",
    "                for row in range(outShape[1]):\n",
    "                    for col in range(outShape[2]):\n",
    "                        patch = data[sample, \n",
    "                                row * rowPool : (row + 1) * rowPool,\n",
    "                                col * colPool : (col + 1) * colPool,\n",
    "                                dim]\n",
    "                        maxVal = patch.max()\n",
    "                        pooled[sample,row,col,dim] = maxVal\n",
    "                        maxIndex = patch.argmax(axis = 1)\n",
    "                        maxRow = patch.max(axis = 1).argmax()\n",
    "                        maxCol = maxIndex[maxRow]\n",
    "                        switch[sample, \n",
    "                               row * rowPool + maxRow, \n",
    "                               col * colPool + maxCol,\n",
    "                               dim]  = 1\n",
    "        return [pooled, switch]\n",
    "    # -- UNPOOLING -- #\n",
    "    def __max_unpooling_with_switch(self, data, switch):\n",
    "        tile = np.ones((math.floor(switch.shape[1]/data.shape[1]),math.floor(switch.shape[2]/data.shape[2])))\n",
    "        tile = np.expand_dims(tile,axis=3)\n",
    "        data = np.squeeze(data,axis=0)\n",
    "        out = np.kron(data, tile)\n",
    "        unpooled = out * switch\n",
    "        unpooled = np.expand_dims(unpooled,axis=0)\n",
    "        return unpooled"
   ]
  },
  {
   "cell_type": "code",
   "execution_count": 9,
   "metadata": {},
   "outputs": [],
   "source": [
    "# -- DEFINITION AND FORWARD&BACKWARD PASSES FOR THE DECONVOLUTION MODEL -- #\n",
    "def visualize(model, data, layerName, featVis, visMode='all'):\n",
    "    deconvLayers = []\n",
    "    for i in range(len(model.layers)):\n",
    "        if model.layers[i].__class__.__name__ == 'Conv2D':\n",
    "            deconvLayers.append(DConv2D(model.layers[i]))\n",
    "            deconvLayers.append(DActivation(model.layers[i]))\n",
    "        elif model.layers[i].__class__.__name__ == 'MaxPooling2D':\n",
    "            deconvLayers.append(DPooling(model.layers[i]))\n",
    "        elif model.layers[i].__class__.__name__ == 'Dense':\n",
    "            deconvLayers.append(DDense(model.layers[i]))\n",
    "            deconvLayers.append(DActivation(model.layers[i]))\n",
    "        elif model.layers[i].__class__.__name__ == 'Activation':\n",
    "            deconvLayers.append(DActivation(model.alyers[i]))\n",
    "        elif model.layers[i].__class__.__name__ == 'Flatten':\n",
    "            deconvLayers.append(DFlatten(model.layers[i]))\n",
    "        elif model.layers[i].__class__.__name__ == 'InputLayer':\n",
    "            deconvLayers.append(DInput(model.layers[i]))\n",
    "        else:\n",
    "            print('Cannot handle this type of layer')\n",
    "            print(model.layers[i].get_config())\n",
    "            sys.exit()\n",
    "        if layerName == model.layers[i].name:\n",
    "            break\n",
    "    # -- FORWARD PASS -- #\n",
    "    deconvLayers[0].up(data)\n",
    "    for k in range(1, len(deconvLayers)):\n",
    "        deconvLayers[k].up(deconvLayers[k - 1].upData)\n",
    "    output = deconvLayers[-1].upData\n",
    "    assert output.ndim == 2 or output.ndim == 4\n",
    "    if output.ndim == 2:\n",
    "        featureMap = output[:,featVis]\n",
    "    else:\n",
    "        featureMap = output[:,:,:,featVis]\n",
    "    if visMode == 'max':\n",
    "        maxAct = featureMap.max()\n",
    "        temp = featureMap == maxAct\n",
    "        featureMap = featureMap * temp\n",
    "    elif visMode != 'all':\n",
    "        print('Illegal visualize mode')\n",
    "        sys.exit()\n",
    "    output = np.zeros_like(output)\n",
    "    if 2 == output.ndim:\n",
    "        output[:,featVis] = featureMap\n",
    "    else:\n",
    "        output[:,:,:,featVis] = featureMap\n",
    "    # -- BACKWARD PASS -- #\n",
    "    deconvLayers[-1].down(output)\n",
    "    for k in range(len(deconvLayers) - 2, -1, -1):\n",
    "        deconvLayers[k].down(deconvLayers[k + 1].downData)\n",
    "    deconv = deconvLayers[0].downData\n",
    "    deconv = deconv.squeeze()\n",
    "    return deconv"
   ]
  },
  {
   "cell_type": "code",
   "execution_count": 10,
   "metadata": {},
   "outputs": [
    {
     "name": "stdout",
     "output_type": "stream",
     "text": [
      "WARNING:tensorflow:From /Users/paudomingogregorio/Desktop/Projects/TFG/Code/.env/lib/python3.7/site-packages/tensorflow/python/framework/op_def_library.py:263: colocate_with (from tensorflow.python.framework.ops) is deprecated and will be removed in a future version.\n",
      "Instructions for updating:\n",
      "Colocations handled automatically by placer.\n"
     ]
    }
   ],
   "source": [
    "# -- DEFINE MODEL -- #\n",
    "model = VGG16(weights = 'imagenet', include_top = True)"
   ]
  },
  {
   "cell_type": "code",
   "execution_count": 25,
   "metadata": {},
   "outputs": [
    {
     "name": "stdin",
     "output_type": "stream",
     "text": [
      "Select filter (0-512) 145\n"
     ]
    }
   ],
   "source": [
    "# -- DEFINE VARIABLES -- #\n",
    "imagePath = './Data/images/test_115.jpg'\n",
    "layerName = 'block5_conv3'\n",
    "featVis = int(input('Select filter (0-{0})'.format(model.get_layer(layerName).output_shape[3])))\n",
    "visMode = 'all'"
   ]
  },
  {
   "cell_type": "code",
   "execution_count": 26,
   "metadata": {},
   "outputs": [],
   "source": [
    "# -- LOAD AND PREPROCESS IMAGE -- #\n",
    "img = pilImage.open(imagePath)\n",
    "img = img.resize((224, 224),resample=pilImage.NEAREST)\n",
    "array = np.array(img)\n",
    "array = array[np.newaxis, :]\n",
    "array = array.astype(np.float)\n",
    "array = preprocess_input(array)"
   ]
  },
  {
   "cell_type": "code",
   "execution_count": 27,
   "metadata": {},
   "outputs": [
    {
     "name": "stderr",
     "output_type": "stream",
     "text": [
      "/Users/paudomingogregorio/Desktop/Projects/TFG/Code/.env/lib/python3.7/site-packages/ipykernel_launcher.py:44: DeprecationWarning: Both axis > a.ndim and axis < -a.ndim - 1 are deprecated and will raise an AxisError in the future.\n"
     ]
    }
   ],
   "source": [
    "# -- COMPUTE DECONVOLUTION -- #\n",
    "deconv = visualize(model,array,layerName,featVis,visMode)"
   ]
  },
  {
   "cell_type": "code",
   "execution_count": 24,
   "metadata": {},
   "outputs": [
    {
     "data": {
      "image/png": "[encoded data removed]",
      "text/plain": [
       "<PIL.Image.Image image mode=RGB size=224x224 at 0x12B7C00F0>"
      ]
     },
     "execution_count": 24,
     "metadata": {},
     "output_type": "execute_result"
    }
   ],
   "source": [
    "# -- PRESENT AND SAVE RESULTS -- #\n",
    "deconv = deconv - deconv.min()\n",
    "deconv *= 1.0 / (deconv.max() + K.epsilon())\n",
    "uint8Deconv = (deconv * 255).astype(np.uint8)\n",
    "img = pilImage.fromarray(uint8Deconv, 'RGB')\n",
    "img.save('./Results/Deconv/{0}_{1}_{2}.png'.format(layerName, featVis, visMode),dpi=(250,250))\n",
    "img"
   ]
  }
 ],
 "metadata": {
  "kernelspec": {
   "display_name": "Python 3",
   "language": "python",
   "name": "python3"
  },
  "language_info": {
   "codemirror_mode": {
    "name": "ipython",
    "version": 3
   },
   "file_extension": ".py",
   "mimetype": "text/x-python",
   "name": "python",
   "nbconvert_exporter": "python",
   "pygments_lexer": "ipython3",
   "version": "3.7.2"
  }
 },
 "nbformat": 4,
 "nbformat_minor": 2
}
